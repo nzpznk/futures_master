{
 "cells": [
  {
   "cell_type": "code",
   "execution_count": 1,
   "metadata": {},
   "outputs": [],
   "source": [
    "from config import __database_dir__, contract_list, __labeled_data_dir__\n",
    "import pickle\n",
    "import h5py\n",
    "import matplotlib.pyplot as plt\n",
    "%matplotlib inline"
   ]
  },
  {
   "cell_type": "code",
   "execution_count": null,
   "metadata": {},
   "outputs": [],
   "source": [
    "print(__database_dir__)"
   ]
  },
  {
   "cell_type": "code",
   "execution_count": null,
   "metadata": {},
   "outputs": [],
   "source": [
    "species = ['A1', 'A3', 'B2', 'B3']"
   ]
  },
  {
   "cell_type": "code",
   "execution_count": null,
   "metadata": {},
   "outputs": [],
   "source": [
    "def plot_price(file_number, cat):\n",
    "    with open(__database_dir__ + str(file_number) + '_' + cat, 'rb') as fp:\n",
    "        timelist, pricelist = pickle.load(fp)\n",
    "    print('len:', len(timelist))\n",
    "    plt.plot(pricelist)\n",
    "    print(timelist[:20])"
   ]
  },
  {
   "cell_type": "code",
   "execution_count": null,
   "metadata": {},
   "outputs": [],
   "source": [
    "number = 0"
   ]
  },
  {
   "cell_type": "code",
   "execution_count": null,
   "metadata": {},
   "outputs": [],
   "source": [
    "plot_price(number, 'A1')"
   ]
  },
  {
   "cell_type": "code",
   "execution_count": null,
   "metadata": {},
   "outputs": [],
   "source": [
    "plot_price(number, 'A3')"
   ]
  },
  {
   "cell_type": "code",
   "execution_count": null,
   "metadata": {},
   "outputs": [],
   "source": [
    "plot_price(number, 'B2')"
   ]
  },
  {
   "cell_type": "code",
   "execution_count": null,
   "metadata": {},
   "outputs": [],
   "source": [
    "plot_price(number, 'B3')"
   ]
  },
  {
   "cell_type": "code",
   "execution_count": null,
   "metadata": {},
   "outputs": [],
   "source": [
    "def get_data(file_number, cat):\n",
    "    with open(__database_dir__ + str(file_number) + cat, 'rb') as fp:\n",
    "        data = pickle.load(fp)\n",
    "    timelist = []\n",
    "    pricelist = []\n",
    "    for elem in data:\n",
    "        timelist.append(elem[0])\n",
    "        pricelist.append(elem[1])\n",
    "    return timelist, pricelist"
   ]
  },
  {
   "cell_type": "code",
   "execution_count": null,
   "metadata": {},
   "outputs": [],
   "source": [
    "time, price = get_data(25, 'A1')"
   ]
  },
  {
   "cell_type": "code",
   "execution_count": null,
   "metadata": {},
   "outputs": [],
   "source": [
    "dat = [5, 3, 8, 9, 2]\n",
    "cal_delta(dat, 0, 1, 5)"
   ]
  },
  {
   "cell_type": "code",
   "execution_count": 2,
   "metadata": {},
   "outputs": [],
   "source": [
    "from config import train_time, seg_time, predict_st, predict_ed, theta\n",
    "import numpy as np\n",
    "import h5py"
   ]
  },
  {
   "cell_type": "code",
   "execution_count": 3,
   "metadata": {},
   "outputs": [],
   "source": [
    "# 输入: 价格列表, 初始价格下标, 用于标注的区间左端点lo,区间右端点hi,区间为[lo, hi)\n",
    "# 输出: d_ab(t)\n",
    "def cal_delta(prices, t0, lo, hi):\n",
    "    price_st = prices[t0]\n",
    "    max_delta = 0\n",
    "    ans = 0\n",
    "    for i in range(lo, hi):\n",
    "        delta = prices[i] - price_st\n",
    "        if abs(delta) > max_delta:\n",
    "            ans = delta\n",
    "            max_delta = abs(delta)\n",
    "    return ans / price_st"
   ]
  },
  {
   "cell_type": "code",
   "execution_count": 11,
   "metadata": {},
   "outputs": [],
   "source": [
    "# 输入: datelist日期列表(共54天,列表中数字范围[0, 53]), dat_name作为输入的期货种类, lab_name预测的期货种类\n",
    "# 输出: 将标注后的数据使用h5py导入文件中备用\n",
    "def label_and_dump(file_num, dat_name, lab_name):\n",
    "    dataset = []\n",
    "    label = []\n",
    "    with open(__database_dir__ + str(file_num) + '_' + dat_name, 'rb') as fp:\n",
    "        x_time, x_price = pickle.load(fp)\n",
    "    with open(__database_dir__ + str(file_num) + '_' + lab_name, 'rb') as fp:\n",
    "        y_time, y_price = pickle.load(fp)\n",
    "    data_len = int(train_time / 0.5)\n",
    "    seg_len = int(seg_time / 0.5)\n",
    "    st_len = int(predict_st / 0.5)\n",
    "    ed_len = int(predict_ed / 0.5)\n",
    "    seg_num = min((len(x_time) - data_len) // seg_len, (len(y_time) - data_len - ed_len) // seg_len)\n",
    "    for i in range(seg_num):\n",
    "        dataset.append([ x_price[(i+j)*seg_len:seg_len*(i+j+1)] for j in range(data_len // seg_len) ])\n",
    "        delta = cal_delta(y_price, i*seg_len+data_len, i*seg_len+data_len+st_len, i*seg_len+data_len+ed_len)\n",
    "        if delta <= -theta:\n",
    "            label.append(0)\n",
    "        elif delta >= theta:\n",
    "            label.append(2)\n",
    "        else:\n",
    "            label.append(1)\n",
    "    with h5py.File(__labeled_data_dir__ + str(file_num) + '_' + dat_name + '_' + lab_name + '.h5', 'w') as fp:\n",
    "        fp.create_dataset('dataset', data = np.array(dataset))\n",
    "        fp.create_dataset('label', data = np.array(label))"
   ]
  },
  {
   "cell_type": "code",
   "execution_count": 12,
   "metadata": {
    "scrolled": false
   },
   "outputs": [],
   "source": [
    "label_and_dump(52, 'A1', 'A3')"
   ]
  },
  {
   "cell_type": "code",
   "execution_count": 6,
   "metadata": {},
   "outputs": [
    {
     "name": "stdout",
     "output_type": "stream",
     "text": [
      "4666 4666\n",
      "136\n",
      "4411\n",
      "119\n"
     ]
    }
   ],
   "source": [
    "with h5py.File(__labeled_data_dir__ + '52_A1_A3.h5', 'r') as fp:\n",
    "    data = np.array(fp['dataset'])\n",
    "    label = np.array(fp['label'])\n",
    "print(len(data), len(label))\n",
    "# print(data[:5])\n",
    "print(label.tolist().count(0))\n",
    "print(label.tolist().count(1))\n",
    "print(label.tolist().count(2))"
   ]
  },
  {
   "cell_type": "code",
   "execution_count": null,
   "metadata": {},
   "outputs": [],
   "source": [
    "with h5py.File(\"test.h5\", \"w\") as file:\n",
    "    file.create_dataset('x', data = np.array([1, 2, 3, 4, 5]))\n",
    "    file.create_dataset('y', data = np.array([1, 0, 1, 0, 1]))"
   ]
  },
  {
   "cell_type": "code",
   "execution_count": null,
   "metadata": {},
   "outputs": [],
   "source": [
    "with h5py.File(\"test.h5\", \"r\") as file:\n",
    "    print(np.array(file['x']))\n",
    "    print(np.array(file['y']))"
   ]
  },
  {
   "cell_type": "code",
   "execution_count": null,
   "metadata": {},
   "outputs": [],
   "source": []
  },
  {
   "cell_type": "code",
   "execution_count": null,
   "metadata": {},
   "outputs": [],
   "source": []
  }
 ],
 "metadata": {
  "kernelspec": {
   "display_name": "Python 3",
   "language": "python",
   "name": "python3"
  },
  "language_info": {
   "codemirror_mode": {
    "name": "ipython",
    "version": 3
   },
   "file_extension": ".py",
   "mimetype": "text/x-python",
   "name": "python",
   "nbconvert_exporter": "python",
   "pygments_lexer": "ipython3",
   "version": "3.6.5"
  }
 },
 "nbformat": 4,
 "nbformat_minor": 2
}
