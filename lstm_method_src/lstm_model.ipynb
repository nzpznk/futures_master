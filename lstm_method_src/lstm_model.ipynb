{
 "cells": [
  {
   "cell_type": "code",
   "execution_count": null,
   "metadata": {},
   "outputs": [],
   "source": [
    "import numpy as np\n",
    "import pandas as pd\n",
    "import matplotlib.pyplot as plt\n",
    "%matplotlib inline\n",
    "\n",
    "from keras.utils.np_utils import to_categorical # label数组变为one-hot编码\n",
    "from keras.models import Sequential\n",
    "from keras.layers import Flatten, Dense, BatchNormalization, Dropout, Flatten, CuDNNLSTM, CuDNNGRU, Activation\n",
    "from keras.optimizers import Adam # Adam 优化，加速收敛\n",
    "from keras.callbacks import ReduceLROnPlateau # tensorboard记录，learning rate decay，模型保存"
   ]
  },
  {
   "cell_type": "code",
   "execution_count": null,
   "metadata": {},
   "outputs": [],
   "source": [
    "from sklearn.model_selection import train_test_split # 用于划分训练集和验证集"
   ]
  },
  {
   "cell_type": "code",
   "execution_count": null,
   "metadata": {},
   "outputs": [],
   "source": [
    "from label_data import get_labeled_data"
   ]
  },
  {
   "cell_type": "code",
   "execution_count": null,
   "metadata": {},
   "outputs": [],
   "source": [
    "seed = 2"
   ]
  },
  {
   "cell_type": "code",
   "execution_count": null,
   "metadata": {},
   "outputs": [],
   "source": [
    "def get_train_val_test(dat_name, lab_name):\n",
    "    train_x, train_y = get_labeled_data(dat_name, lab_name, 'train_')\n",
    "    test_x, test_y = get_labeled_data(dat_name, lab_name, 'test_')\n",
    "    train_y = to_categorical(train_y, num_classes = 3)\n",
    "    test_y = to_categorical(test_y, num_classes = 3)\n",
    "    test_x, val_x, test_y, val_y = train_test_split(test_x, \n",
    "                                                    test_y, \n",
    "                                                    test_size = 0.2, \n",
    "                                                    random_state = seed)\n",
    "    return train_x, train_y, val_x, val_y, test_x, test_y"
   ]
  },
  {
   "cell_type": "code",
   "execution_count": null,
   "metadata": {},
   "outputs": [],
   "source": [
    "train_x, train_y, val_x, val_y, test_x, test_y = get_train_val_test('A1', 'A3')"
   ]
  },
  {
   "cell_type": "code",
   "execution_count": null,
   "metadata": {},
   "outputs": [],
   "source": [
    "UNIT_SIZE = 20\n",
    "TIME_STEPS = 30\n",
    "INPUT_SIZE = 20\n",
    "OUTPUT_SIZE = 3\n",
    "from keras import backend as K\n",
    "def model_structure(model):\n",
    "    model.add(CuDNNGRU(\n",
    "        units = UNIT_SIZE,\n",
    "        batch_input_shape=(None, TIME_STEPS, INPUT_SIZE)))\n",
    "#     model.add(Dense(1))\n",
    "#     model.add(Activation('relu'))\n",
    "    model.add(Dense(OUTPUT_SIZE, activation = 'softmax'))\n",
    "    model.compile(optimizer=Adam(),\n",
    "                  loss=\"categorical_crossentropy\",\n",
    "                  metrics=['accuracy'])\n"
   ]
  },
  {
   "cell_type": "code",
   "execution_count": null,
   "metadata": {},
   "outputs": [],
   "source": [
    "train_sample, train_label, val_x, val_y, test_x, test_y = get_train_val_test('A1', 'A3')\n",
    "\n",
    "K.set_image_dim_ordering('th')\n",
    "#生成一个model\n",
    "model = Sequential()\n",
    "#model结构见model_structure.py\n",
    "model_structure(model)\n",
    "\n",
    "model.summary()"
   ]
  },
  {
   "cell_type": "code",
   "execution_count": null,
   "metadata": {},
   "outputs": [],
   "source": [
    "#batch大小设为128, 训练17轮, 验证集划分设成0.05\n",
    "model.fit(train_sample, \n",
    "          train_label, \n",
    "          batch_size=128, \n",
    "          epochs=17, \n",
    "          verbose=1, \n",
    "          validation_data=(val_x, val_y))\n"
   ]
  },
  {
   "cell_type": "code",
   "execution_count": null,
   "metadata": {},
   "outputs": [],
   "source": [
    "train_label[:10]"
   ]
  },
  {
   "cell_type": "code",
   "execution_count": null,
   "metadata": {},
   "outputs": [],
   "source": [
    "val_y[:10]"
   ]
  },
  {
   "cell_type": "code",
   "execution_count": null,
   "metadata": {},
   "outputs": [],
   "source": [
    "val_x[:2]"
   ]
  },
  {
   "cell_type": "code",
   "execution_count": null,
   "metadata": {},
   "outputs": [],
   "source": [
    "train_sample[:2]"
   ]
  },
  {
   "cell_type": "code",
   "execution_count": null,
   "metadata": {},
   "outputs": [],
   "source": []
  }
 ],
 "metadata": {
  "kernelspec": {
   "display_name": "Python 3",
   "language": "python",
   "name": "python3"
  },
  "language_info": {
   "codemirror_mode": {
    "name": "ipython",
    "version": 3
   },
   "file_extension": ".py",
   "mimetype": "text/x-python",
   "name": "python",
   "nbconvert_exporter": "python",
   "pygments_lexer": "ipython3",
   "version": "3.6.5"
  }
 },
 "nbformat": 4,
 "nbformat_minor": 2
}
